{
  "nbformat": 4,
  "nbformat_minor": 0,
  "metadata": {
    "colab": {
      "name": "Footballers.ipynb",
      "version": "0.3.2",
      "views": {},
      "default_view": {},
      "provenance": []
    },
    "kernelspec": {
      "display_name": "Python 3",
      "language": "python",
      "name": "python3"
    }
  },
  "cells": [
    {
      "metadata": {
        "id": "7xlT7UK6ZfHG",
        "colab_type": "text"
      },
      "cell_type": "markdown",
      "source": [
        "# Cause of death of Soccer Players"
      ]
    },
    {
      "metadata": {
        "id": "MwaCWPplZfHJ",
        "colab_type": "text"
      },
      "cell_type": "markdown",
      "source": [
        "As we watch soccer players exhibit their skills on the pitch at the world cup stage, we would think these players are healthy in all sense given the amount of work they put in before and during each game. Health experts advise, exercising is paramount for avoiding many diseases. In that context, I wondered what is the impact of exercise on sports men and women, and in particular, soccer players.\n",
        "\n",
        "These questions cannot be answered for players currently playing in the game because I do not have access to their medical records so I decided to use a public data on Wikipedia which show the causes of death of soccer players on earth.\n",
        "\n",
        "I decided to make this more of tutorial so I will share steps of data acquisition through to the analysis. I wanted to find out the average age at death, and the cause of death of soccer players that have passed away.\n"
      ]
    },
    {
      "metadata": {
        "id": "V7PSHvkXZfHK",
        "colab_type": "text"
      },
      "cell_type": "markdown",
      "source": [
        "# Load the required python packages"
      ]
    },
    {
      "metadata": {
        "id": "qzBGO8hDZfHL",
        "colab_type": "code",
        "colab": {
          "autoexec": {
            "startup": false,
            "wait_interval": 0
          }
        }
      },
      "cell_type": "code",
      "source": [
        "%reload_ext signature \n",
        "# To sign my name at the end of code .You need to have a script saved before it works. You can remove it.\n",
        "%matplotlib inline\n",
        "import requests\n",
        "import pandas as pd\n",
        "import matplotlib as mpl\n",
        "import matplotlib.pyplot as plt\n",
        "import io\n",
        "\n",
        "\n",
        "chartinfo = 'Author: Albert Opoku• Data source: wikidata.org'\n",
        "infosize = 12"
      ],
      "execution_count": 0,
      "outputs": []
    },
    {
      "metadata": {
        "id": "kNYtVpyEZfHQ",
        "colab_type": "text"
      },
      "cell_type": "markdown",
      "source": [
        "# Querying data from Wikipedia using SPARQL language\n",
        "\n",
        "SPARQL developed by W3C is an RDF query language, that is, a semantic query language for databases, able to retrieve and manipulate data stored in Resource Description Framework (RDF) format. I decided to write my SPARQL code in python because python with pandas gives me the ability do my analysis without changing to another programing language.\n",
        "\n",
        "I will query the following information: Name, Country of citizenship, Cause of death, date of birth and date of death for each soccer player reported dead on Wikipedia. \n",
        "\n",
        "I would like to acknowledge Ramiro Gómez for his SPARQL python code on GitHub.\n"
      ]
    },
    {
      "metadata": {
        "id": "-hT1rQVEZfHQ",
        "colab_type": "code",
        "colab": {
          "autoexec": {
            "startup": false,
            "wait_interval": 0
          }
        }
      },
      "cell_type": "code",
      "source": [
        "query = '''PREFIX wikibase: <http://wikiba.se/ontology#>\n",
        "PREFIX wd: <http://www.wikidata.org/entity/>\n",
        "PREFIX wdt: <http://www.wikidata.org/prop/direct/>\n",
        "PREFIX rdfs: <http://www.w3.org/2000/01/rdf-schema#>\n",
        "SELECT ?name ?cause ?dob ?dod ?country WHERE {\n",
        "    ?pid wdt:P106 wd:Q937857 . \n",
        "    ?pid wdt:P509 ?cid .\n",
        "    ?pid wdt:P569 ?dob .\n",
        "    ?pid wdt:P570 ?dod .\n",
        "    ?pid wdt:P27 ?cot.\n",
        "\n",
        "    OPTIONAL {\n",
        "        ?pid rdfs:label ?name filter (lang(?name) = \"en\") .\n",
        "    }\n",
        "    OPTIONAL {\n",
        "        ?cid rdfs:label ?cause filter (lang(?cause) = \"en\") .\n",
        "    }\n",
        "        OPTIONAL {\n",
        "        ?cot rdfs:label ?country filter (lang(?country) = \"en\") .\n",
        "    }\n",
        "}'''\n",
        "\n",
        "url = 'https://query.wikidata.org/bigdata/namespace/wdq/sparql'\n",
        "data = requests.get(url, params={'query': query, 'format': 'json'}).json()\n",
        "#data"
      ],
      "execution_count": 0,
      "outputs": []
    },
    {
      "metadata": {
        "id": "aXqKRXV4ZfHT",
        "colab_type": "text"
      },
      "cell_type": "markdown",
      "source": [
        "We will use the code below to parse the values we need out and save in a pandas dataframe for analysis. There are 1,390 soccer players reported dead on Wikipedia. A sneak peak of the data is shown below using the head method in pandas."
      ]
    },
    {
      "metadata": {
        "id": "Ol9HB3mWZfHV",
        "colab_type": "code",
        "colab": {
          "autoexec": {
            "startup": false,
            "wait_interval": 0
          },
          "base_uri": "https://localhost:8080/",
          "height": 221
        },
        "outputId": "e9547366-8db1-4ca6-a593-5d46ae1249d2",
        "executionInfo": {
          "status": "ok",
          "timestamp": 1531532574223,
          "user_tz": 240,
          "elapsed": 413,
          "user": {
            "displayName": "Albert Opoku",
            "photoUrl": "https://lh3.googleusercontent.com/a/default-user=s128",
            "userId": "104199486019438337688"
          }
        }
      },
      "cell_type": "code",
      "source": [
        "soccer = []\n",
        "for item in data['results']['bindings']:\n",
        "    try:\n",
        "        soccer.append({\n",
        "        'name': item['name']['value'],\n",
        "        'country': item['country']['value'],\n",
        "        'cause_of_death': item['cause']['value'],\n",
        "        'date_of_birth': item['dob']['value'],\n",
        "        'date_of_death': item['dod']['value']})\n",
        "    except KeyError:\n",
        "        pass\n",
        "df = pd.DataFrame(soccer)\n",
        "print(len(df))\n",
        "df.head()"
      ],
      "execution_count": 10,
      "outputs": [
        {
          "output_type": "stream",
          "text": [
            "1390\n"
          ],
          "name": "stdout"
        },
        {
          "output_type": "execute_result",
          "data": {
            "text/html": [
              "<div>\n",
              "<style scoped>\n",
              "    .dataframe tbody tr th:only-of-type {\n",
              "        vertical-align: middle;\n",
              "    }\n",
              "\n",
              "    .dataframe tbody tr th {\n",
              "        vertical-align: top;\n",
              "    }\n",
              "\n",
              "    .dataframe thead th {\n",
              "        text-align: right;\n",
              "    }\n",
              "</style>\n",
              "<table border=\"1\" class=\"dataframe\">\n",
              "  <thead>\n",
              "    <tr style=\"text-align: right;\">\n",
              "      <th></th>\n",
              "      <th>cause_of_death</th>\n",
              "      <th>country</th>\n",
              "      <th>date_of_birth</th>\n",
              "      <th>date_of_death</th>\n",
              "      <th>name</th>\n",
              "    </tr>\n",
              "  </thead>\n",
              "  <tbody>\n",
              "    <tr>\n",
              "      <th>0</th>\n",
              "      <td>cardiovascular disease</td>\n",
              "      <td>Portugal</td>\n",
              "      <td>1942-01-25T00:00:00Z</td>\n",
              "      <td>2014-01-05T00:00:00Z</td>\n",
              "      <td>Eusébio</td>\n",
              "    </tr>\n",
              "    <tr>\n",
              "      <th>1</th>\n",
              "      <td>cardiovascular disease</td>\n",
              "      <td>Portugal</td>\n",
              "      <td>1979-10-25T00:00:00Z</td>\n",
              "      <td>2015-05-26T00:00:00Z</td>\n",
              "      <td>João Lucas</td>\n",
              "    </tr>\n",
              "    <tr>\n",
              "      <th>2</th>\n",
              "      <td>embolism</td>\n",
              "      <td>Portugal</td>\n",
              "      <td>1927-02-22T00:00:00Z</td>\n",
              "      <td>2005-04-16T00:00:00Z</td>\n",
              "      <td>Francisco Calado</td>\n",
              "    </tr>\n",
              "    <tr>\n",
              "      <th>3</th>\n",
              "      <td>heart failure</td>\n",
              "      <td>Portugal</td>\n",
              "      <td>1938-09-08T00:00:00Z</td>\n",
              "      <td>2010-09-03T00:00:00Z</td>\n",
              "      <td>José Augusto Torres</td>\n",
              "    </tr>\n",
              "    <tr>\n",
              "      <th>4</th>\n",
              "      <td>stroke</td>\n",
              "      <td>Portugal</td>\n",
              "      <td>1950-04-18T00:00:00Z</td>\n",
              "      <td>2016-07-25T00:00:00Z</td>\n",
              "      <td>Artur Correia</td>\n",
              "    </tr>\n",
              "  </tbody>\n",
              "</table>\n",
              "</div>"
            ],
            "text/plain": [
              "           cause_of_death   country         date_of_birth  \\\n",
              "0  cardiovascular disease  Portugal  1942-01-25T00:00:00Z   \n",
              "1  cardiovascular disease  Portugal  1979-10-25T00:00:00Z   \n",
              "2                embolism  Portugal  1927-02-22T00:00:00Z   \n",
              "3           heart failure  Portugal  1938-09-08T00:00:00Z   \n",
              "4                  stroke  Portugal  1950-04-18T00:00:00Z   \n",
              "\n",
              "          date_of_death                 name  \n",
              "0  2014-01-05T00:00:00Z              Eusébio  \n",
              "1  2015-05-26T00:00:00Z           João Lucas  \n",
              "2  2005-04-16T00:00:00Z     Francisco Calado  \n",
              "3  2010-09-03T00:00:00Z  José Augusto Torres  \n",
              "4  2016-07-25T00:00:00Z        Artur Correia  "
            ]
          },
          "metadata": {
            "tags": []
          },
          "execution_count": 10
        }
      ]
    },
    {
      "metadata": {
        "id": "jx5s27P_ZfHa",
        "colab_type": "text"
      },
      "cell_type": "markdown",
      "source": [
        "Let us use df.info() to check the data types and also find out if there are missing values in any of the columns. We will also use the df.describe() to get the summary statistics on the data.\n",
        "Turns out the fields are all object type and there are no missing values."
      ]
    },
    {
      "metadata": {
        "id": "R55SzVlCZfHb",
        "colab_type": "code",
        "colab": {
          "autoexec": {
            "startup": false,
            "wait_interval": 0
          },
          "base_uri": "https://localhost:8080/",
          "height": 187
        },
        "outputId": "5e61944f-ac33-4ef3-aa73-04f8e30c8563",
        "executionInfo": {
          "status": "ok",
          "timestamp": 1531532577159,
          "user_tz": 240,
          "elapsed": 338,
          "user": {
            "displayName": "Albert Opoku",
            "photoUrl": "https://lh3.googleusercontent.com/a/default-user=s128",
            "userId": "104199486019438337688"
          }
        }
      },
      "cell_type": "code",
      "source": [
        "df.info()"
      ],
      "execution_count": 11,
      "outputs": [
        {
          "output_type": "stream",
          "text": [
            "<class 'pandas.core.frame.DataFrame'>\n",
            "RangeIndex: 1390 entries, 0 to 1389\n",
            "Data columns (total 5 columns):\n",
            "cause_of_death    1390 non-null object\n",
            "country           1390 non-null object\n",
            "date_of_birth     1390 non-null object\n",
            "date_of_death     1390 non-null object\n",
            "name              1390 non-null object\n",
            "dtypes: object(5)\n",
            "memory usage: 54.4+ KB\n"
          ],
          "name": "stdout"
        }
      ]
    },
    {
      "metadata": {
        "id": "CaYjMiHXZfHg",
        "colab_type": "code",
        "colab": {
          "autoexec": {
            "startup": false,
            "wait_interval": 0
          },
          "base_uri": "https://localhost:8080/",
          "height": 173
        },
        "outputId": "45fb1c79-7409-477c-e601-471eab471eae",
        "executionInfo": {
          "status": "ok",
          "timestamp": 1531532578451,
          "user_tz": 240,
          "elapsed": 369,
          "user": {
            "displayName": "Albert Opoku",
            "photoUrl": "https://lh3.googleusercontent.com/a/default-user=s128",
            "userId": "104199486019438337688"
          }
        }
      },
      "cell_type": "code",
      "source": [
        "df.describe()"
      ],
      "execution_count": 12,
      "outputs": [
        {
          "output_type": "execute_result",
          "data": {
            "text/html": [
              "<div>\n",
              "<style scoped>\n",
              "    .dataframe tbody tr th:only-of-type {\n",
              "        vertical-align: middle;\n",
              "    }\n",
              "\n",
              "    .dataframe tbody tr th {\n",
              "        vertical-align: top;\n",
              "    }\n",
              "\n",
              "    .dataframe thead th {\n",
              "        text-align: right;\n",
              "    }\n",
              "</style>\n",
              "<table border=\"1\" class=\"dataframe\">\n",
              "  <thead>\n",
              "    <tr style=\"text-align: right;\">\n",
              "      <th></th>\n",
              "      <th>cause_of_death</th>\n",
              "      <th>country</th>\n",
              "      <th>date_of_birth</th>\n",
              "      <th>date_of_death</th>\n",
              "      <th>name</th>\n",
              "    </tr>\n",
              "  </thead>\n",
              "  <tbody>\n",
              "    <tr>\n",
              "      <th>count</th>\n",
              "      <td>1390</td>\n",
              "      <td>1390</td>\n",
              "      <td>1390</td>\n",
              "      <td>1390</td>\n",
              "      <td>1390</td>\n",
              "    </tr>\n",
              "    <tr>\n",
              "      <th>unique</th>\n",
              "      <td>104</td>\n",
              "      <td>134</td>\n",
              "      <td>1225</td>\n",
              "      <td>1181</td>\n",
              "      <td>1257</td>\n",
              "    </tr>\n",
              "    <tr>\n",
              "      <th>top</th>\n",
              "      <td>myocardial infarction</td>\n",
              "      <td>United Kingdom</td>\n",
              "      <td>1954-01-01T00:00:00Z</td>\n",
              "      <td>2016-11-28T00:00:00Z</td>\n",
              "      <td>Ernest Aljančič</td>\n",
              "    </tr>\n",
              "    <tr>\n",
              "      <th>freq</th>\n",
              "      <td>330</td>\n",
              "      <td>260</td>\n",
              "      <td>5</td>\n",
              "      <td>21</td>\n",
              "      <td>4</td>\n",
              "    </tr>\n",
              "  </tbody>\n",
              "</table>\n",
              "</div>"
            ],
            "text/plain": [
              "               cause_of_death         country         date_of_birth  \\\n",
              "count                    1390            1390                  1390   \n",
              "unique                    104             134                  1225   \n",
              "top     myocardial infarction  United Kingdom  1954-01-01T00:00:00Z   \n",
              "freq                      330             260                     5   \n",
              "\n",
              "               date_of_death             name  \n",
              "count                   1390             1390  \n",
              "unique                  1181             1257  \n",
              "top     2016-11-28T00:00:00Z  Ernest Aljančič  \n",
              "freq                      21                4  "
            ]
          },
          "metadata": {
            "tags": []
          },
          "execution_count": 12
        }
      ]
    },
    {
      "metadata": {
        "id": "o7fZKFMqZfHk",
        "colab_type": "text"
      },
      "cell_type": "markdown",
      "source": [
        "Let us extract the year out of the date of birth and date of death fields so that we can calculate the age of each player."
      ]
    },
    {
      "metadata": {
        "id": "7jJNFo1AZfHm",
        "colab_type": "code",
        "colab": {
          "autoexec": {
            "startup": false,
            "wait_interval": 0
          },
          "base_uri": "https://localhost:8080/",
          "height": 204
        },
        "outputId": "f7d9ce66-69e6-4738-d56c-f70d097ee8d3",
        "executionInfo": {
          "status": "ok",
          "timestamp": 1531532580755,
          "user_tz": 240,
          "elapsed": 326,
          "user": {
            "displayName": "Albert Opoku",
            "photoUrl": "https://lh3.googleusercontent.com/a/default-user=s128",
            "userId": "104199486019438337688"
          }
        }
      },
      "cell_type": "code",
      "source": [
        "df['date_of_death'] = df.date_of_death.str.slice(0, 4).astype(int)\n",
        "df['date_of_birth'] = df.date_of_birth.str.slice(0, 4).astype(int)\n",
        "df.head()\n"
      ],
      "execution_count": 13,
      "outputs": [
        {
          "output_type": "execute_result",
          "data": {
            "text/html": [
              "<div>\n",
              "<style scoped>\n",
              "    .dataframe tbody tr th:only-of-type {\n",
              "        vertical-align: middle;\n",
              "    }\n",
              "\n",
              "    .dataframe tbody tr th {\n",
              "        vertical-align: top;\n",
              "    }\n",
              "\n",
              "    .dataframe thead th {\n",
              "        text-align: right;\n",
              "    }\n",
              "</style>\n",
              "<table border=\"1\" class=\"dataframe\">\n",
              "  <thead>\n",
              "    <tr style=\"text-align: right;\">\n",
              "      <th></th>\n",
              "      <th>cause_of_death</th>\n",
              "      <th>country</th>\n",
              "      <th>date_of_birth</th>\n",
              "      <th>date_of_death</th>\n",
              "      <th>name</th>\n",
              "    </tr>\n",
              "  </thead>\n",
              "  <tbody>\n",
              "    <tr>\n",
              "      <th>0</th>\n",
              "      <td>cardiovascular disease</td>\n",
              "      <td>Portugal</td>\n",
              "      <td>1942</td>\n",
              "      <td>2014</td>\n",
              "      <td>Eusébio</td>\n",
              "    </tr>\n",
              "    <tr>\n",
              "      <th>1</th>\n",
              "      <td>cardiovascular disease</td>\n",
              "      <td>Portugal</td>\n",
              "      <td>1979</td>\n",
              "      <td>2015</td>\n",
              "      <td>João Lucas</td>\n",
              "    </tr>\n",
              "    <tr>\n",
              "      <th>2</th>\n",
              "      <td>embolism</td>\n",
              "      <td>Portugal</td>\n",
              "      <td>1927</td>\n",
              "      <td>2005</td>\n",
              "      <td>Francisco Calado</td>\n",
              "    </tr>\n",
              "    <tr>\n",
              "      <th>3</th>\n",
              "      <td>heart failure</td>\n",
              "      <td>Portugal</td>\n",
              "      <td>1938</td>\n",
              "      <td>2010</td>\n",
              "      <td>José Augusto Torres</td>\n",
              "    </tr>\n",
              "    <tr>\n",
              "      <th>4</th>\n",
              "      <td>stroke</td>\n",
              "      <td>Portugal</td>\n",
              "      <td>1950</td>\n",
              "      <td>2016</td>\n",
              "      <td>Artur Correia</td>\n",
              "    </tr>\n",
              "  </tbody>\n",
              "</table>\n",
              "</div>"
            ],
            "text/plain": [
              "           cause_of_death   country  date_of_birth  date_of_death  \\\n",
              "0  cardiovascular disease  Portugal           1942           2014   \n",
              "1  cardiovascular disease  Portugal           1979           2015   \n",
              "2                embolism  Portugal           1927           2005   \n",
              "3           heart failure  Portugal           1938           2010   \n",
              "4                  stroke  Portugal           1950           2016   \n",
              "\n",
              "                  name  \n",
              "0              Eusébio  \n",
              "1           João Lucas  \n",
              "2     Francisco Calado  \n",
              "3  José Augusto Torres  \n",
              "4        Artur Correia  "
            ]
          },
          "metadata": {
            "tags": []
          },
          "execution_count": 13
        }
      ]
    },
    {
      "metadata": {
        "id": "lSoGIOXTZfHq",
        "colab_type": "code",
        "colab": {
          "autoexec": {
            "startup": false,
            "wait_interval": 0
          }
        }
      },
      "cell_type": "code",
      "source": [
        "df['age']=df.date_of_death - df.date_of_birth"
      ],
      "execution_count": 0,
      "outputs": []
    },
    {
      "metadata": {
        "id": "d1oXf8DsZfHw",
        "colab_type": "code",
        "colab": {
          "autoexec": {
            "startup": false,
            "wait_interval": 0
          },
          "base_uri": "https://localhost:8080/",
          "height": 204
        },
        "outputId": "b3fe3ed7-3280-4404-e004-bf213b735aa6",
        "executionInfo": {
          "status": "ok",
          "timestamp": 1531532583622,
          "user_tz": 240,
          "elapsed": 562,
          "user": {
            "displayName": "Albert Opoku",
            "photoUrl": "https://lh3.googleusercontent.com/a/default-user=s128",
            "userId": "104199486019438337688"
          }
        }
      },
      "cell_type": "code",
      "source": [
        "df.head()"
      ],
      "execution_count": 15,
      "outputs": [
        {
          "output_type": "execute_result",
          "data": {
            "text/html": [
              "<div>\n",
              "<style scoped>\n",
              "    .dataframe tbody tr th:only-of-type {\n",
              "        vertical-align: middle;\n",
              "    }\n",
              "\n",
              "    .dataframe tbody tr th {\n",
              "        vertical-align: top;\n",
              "    }\n",
              "\n",
              "    .dataframe thead th {\n",
              "        text-align: right;\n",
              "    }\n",
              "</style>\n",
              "<table border=\"1\" class=\"dataframe\">\n",
              "  <thead>\n",
              "    <tr style=\"text-align: right;\">\n",
              "      <th></th>\n",
              "      <th>cause_of_death</th>\n",
              "      <th>country</th>\n",
              "      <th>date_of_birth</th>\n",
              "      <th>date_of_death</th>\n",
              "      <th>name</th>\n",
              "      <th>age</th>\n",
              "    </tr>\n",
              "  </thead>\n",
              "  <tbody>\n",
              "    <tr>\n",
              "      <th>0</th>\n",
              "      <td>cardiovascular disease</td>\n",
              "      <td>Portugal</td>\n",
              "      <td>1942</td>\n",
              "      <td>2014</td>\n",
              "      <td>Eusébio</td>\n",
              "      <td>72</td>\n",
              "    </tr>\n",
              "    <tr>\n",
              "      <th>1</th>\n",
              "      <td>cardiovascular disease</td>\n",
              "      <td>Portugal</td>\n",
              "      <td>1979</td>\n",
              "      <td>2015</td>\n",
              "      <td>João Lucas</td>\n",
              "      <td>36</td>\n",
              "    </tr>\n",
              "    <tr>\n",
              "      <th>2</th>\n",
              "      <td>embolism</td>\n",
              "      <td>Portugal</td>\n",
              "      <td>1927</td>\n",
              "      <td>2005</td>\n",
              "      <td>Francisco Calado</td>\n",
              "      <td>78</td>\n",
              "    </tr>\n",
              "    <tr>\n",
              "      <th>3</th>\n",
              "      <td>heart failure</td>\n",
              "      <td>Portugal</td>\n",
              "      <td>1938</td>\n",
              "      <td>2010</td>\n",
              "      <td>José Augusto Torres</td>\n",
              "      <td>72</td>\n",
              "    </tr>\n",
              "    <tr>\n",
              "      <th>4</th>\n",
              "      <td>stroke</td>\n",
              "      <td>Portugal</td>\n",
              "      <td>1950</td>\n",
              "      <td>2016</td>\n",
              "      <td>Artur Correia</td>\n",
              "      <td>66</td>\n",
              "    </tr>\n",
              "  </tbody>\n",
              "</table>\n",
              "</div>"
            ],
            "text/plain": [
              "           cause_of_death   country  date_of_birth  date_of_death  \\\n",
              "0  cardiovascular disease  Portugal           1942           2014   \n",
              "1  cardiovascular disease  Portugal           1979           2015   \n",
              "2                embolism  Portugal           1927           2005   \n",
              "3           heart failure  Portugal           1938           2010   \n",
              "4                  stroke  Portugal           1950           2016   \n",
              "\n",
              "                  name  age  \n",
              "0              Eusébio   72  \n",
              "1           João Lucas   36  \n",
              "2     Francisco Calado   78  \n",
              "3  José Augusto Torres   72  \n",
              "4        Artur Correia   66  "
            ]
          },
          "metadata": {
            "tags": []
          },
          "execution_count": 15
        }
      ]
    },
    {
      "metadata": {
        "id": "1vx5lXdeZfH4",
        "colab_type": "code",
        "colab": {
          "autoexec": {
            "startup": false,
            "wait_interval": 0
          },
          "base_uri": "https://localhost:8080/",
          "height": 297
        },
        "outputId": "111aa042-929a-46cc-dd09-48ddff06fa1b",
        "executionInfo": {
          "status": "ok",
          "timestamp": 1531532584899,
          "user_tz": 240,
          "elapsed": 352,
          "user": {
            "displayName": "Albert Opoku",
            "photoUrl": "https://lh3.googleusercontent.com/a/default-user=s128",
            "userId": "104199486019438337688"
          }
        }
      },
      "cell_type": "code",
      "source": [
        "df.describe()"
      ],
      "execution_count": 16,
      "outputs": [
        {
          "output_type": "execute_result",
          "data": {
            "text/html": [
              "<div>\n",
              "<style scoped>\n",
              "    .dataframe tbody tr th:only-of-type {\n",
              "        vertical-align: middle;\n",
              "    }\n",
              "\n",
              "    .dataframe tbody tr th {\n",
              "        vertical-align: top;\n",
              "    }\n",
              "\n",
              "    .dataframe thead th {\n",
              "        text-align: right;\n",
              "    }\n",
              "</style>\n",
              "<table border=\"1\" class=\"dataframe\">\n",
              "  <thead>\n",
              "    <tr style=\"text-align: right;\">\n",
              "      <th></th>\n",
              "      <th>date_of_birth</th>\n",
              "      <th>date_of_death</th>\n",
              "      <th>age</th>\n",
              "    </tr>\n",
              "  </thead>\n",
              "  <tbody>\n",
              "    <tr>\n",
              "      <th>count</th>\n",
              "      <td>1390.000000</td>\n",
              "      <td>1390.000000</td>\n",
              "      <td>1390.000000</td>\n",
              "    </tr>\n",
              "    <tr>\n",
              "      <th>mean</th>\n",
              "      <td>1940.804317</td>\n",
              "      <td>1995.957554</td>\n",
              "      <td>55.153237</td>\n",
              "    </tr>\n",
              "    <tr>\n",
              "      <th>std</th>\n",
              "      <td>50.348539</td>\n",
              "      <td>50.011017</td>\n",
              "      <td>19.723217</td>\n",
              "    </tr>\n",
              "    <tr>\n",
              "      <th>min</th>\n",
              "      <td>390.000000</td>\n",
              "      <td>426.000000</td>\n",
              "      <td>-63.000000</td>\n",
              "    </tr>\n",
              "    <tr>\n",
              "      <th>25%</th>\n",
              "      <td>1927.000000</td>\n",
              "      <td>1994.000000</td>\n",
              "      <td>38.000000</td>\n",
              "    </tr>\n",
              "    <tr>\n",
              "      <th>50%</th>\n",
              "      <td>1944.000000</td>\n",
              "      <td>2008.000000</td>\n",
              "      <td>57.000000</td>\n",
              "    </tr>\n",
              "    <tr>\n",
              "      <th>75%</th>\n",
              "      <td>1961.000000</td>\n",
              "      <td>2014.000000</td>\n",
              "      <td>71.000000</td>\n",
              "    </tr>\n",
              "    <tr>\n",
              "      <th>max</th>\n",
              "      <td>2000.000000</td>\n",
              "      <td>2018.000000</td>\n",
              "      <td>101.000000</td>\n",
              "    </tr>\n",
              "  </tbody>\n",
              "</table>\n",
              "</div>"
            ],
            "text/plain": [
              "       date_of_birth  date_of_death          age\n",
              "count    1390.000000    1390.000000  1390.000000\n",
              "mean     1940.804317    1995.957554    55.153237\n",
              "std        50.348539      50.011017    19.723217\n",
              "min       390.000000     426.000000   -63.000000\n",
              "25%      1927.000000    1994.000000    38.000000\n",
              "50%      1944.000000    2008.000000    57.000000\n",
              "75%      1961.000000    2014.000000    71.000000\n",
              "max      2000.000000    2018.000000   101.000000"
            ]
          },
          "metadata": {
            "tags": []
          },
          "execution_count": 16
        }
      ]
    },
    {
      "metadata": {
        "id": "nAQC2xWqZfH-",
        "colab_type": "text"
      },
      "cell_type": "markdown",
      "source": [
        "It does look like Jackie Benyon was born in the  year 2000 but died in 1937. How could that be? \n",
        "That is what you deal with when you work with raw data. We will exclude Jackie Benyon from the data soon. Data on Xie Hui also doesn't seem to be correct."
      ]
    },
    {
      "metadata": {
        "id": "k-W6vH-lZfIB",
        "colab_type": "code",
        "colab": {
          "autoexec": {
            "startup": false,
            "wait_interval": 0
          },
          "base_uri": "https://localhost:8080/",
          "height": 111
        },
        "outputId": "b7ea25b6-b07f-4f61-f3fc-e05947e17cfe",
        "executionInfo": {
          "status": "ok",
          "timestamp": 1531532587318,
          "user_tz": 240,
          "elapsed": 385,
          "user": {
            "displayName": "Albert Opoku",
            "photoUrl": "https://lh3.googleusercontent.com/a/default-user=s128",
            "userId": "104199486019438337688"
          }
        }
      },
      "cell_type": "code",
      "source": [
        "df[(df['date_of_death']==426)|(df['age']==-63)]"
      ],
      "execution_count": 17,
      "outputs": [
        {
          "output_type": "execute_result",
          "data": {
            "text/html": [
              "<div>\n",
              "<style scoped>\n",
              "    .dataframe tbody tr th:only-of-type {\n",
              "        vertical-align: middle;\n",
              "    }\n",
              "\n",
              "    .dataframe tbody tr th {\n",
              "        vertical-align: top;\n",
              "    }\n",
              "\n",
              "    .dataframe thead th {\n",
              "        text-align: right;\n",
              "    }\n",
              "</style>\n",
              "<table border=\"1\" class=\"dataframe\">\n",
              "  <thead>\n",
              "    <tr style=\"text-align: right;\">\n",
              "      <th></th>\n",
              "      <th>cause_of_death</th>\n",
              "      <th>country</th>\n",
              "      <th>date_of_birth</th>\n",
              "      <th>date_of_death</th>\n",
              "      <th>name</th>\n",
              "      <th>age</th>\n",
              "    </tr>\n",
              "  </thead>\n",
              "  <tbody>\n",
              "    <tr>\n",
              "      <th>185</th>\n",
              "      <td>peritonitis</td>\n",
              "      <td>United Kingdom</td>\n",
              "      <td>2000</td>\n",
              "      <td>1937</td>\n",
              "      <td>Jackie Benyon</td>\n",
              "      <td>-63</td>\n",
              "    </tr>\n",
              "    <tr>\n",
              "      <th>1257</th>\n",
              "      <td>decapitation</td>\n",
              "      <td>China</td>\n",
              "      <td>390</td>\n",
              "      <td>426</td>\n",
              "      <td>Xie Hui</td>\n",
              "      <td>36</td>\n",
              "    </tr>\n",
              "  </tbody>\n",
              "</table>\n",
              "</div>"
            ],
            "text/plain": [
              "     cause_of_death         country  date_of_birth  date_of_death  \\\n",
              "185     peritonitis  United Kingdom           2000           1937   \n",
              "1257   decapitation           China            390            426   \n",
              "\n",
              "               name  age  \n",
              "185   Jackie Benyon  -63  \n",
              "1257        Xie Hui   36  "
            ]
          },
          "metadata": {
            "tags": []
          },
          "execution_count": 17
        }
      ]
    },
    {
      "metadata": {
        "id": "KiHFURgJZfIH",
        "colab_type": "code",
        "colab": {
          "autoexec": {
            "startup": false,
            "wait_interval": 0
          }
        }
      },
      "cell_type": "code",
      "source": [
        "df=df[df['age']!=-63]\n",
        "df=df[df['date_of_death']!=426]"
      ],
      "execution_count": 0,
      "outputs": []
    },
    {
      "metadata": {
        "id": "mRaQMRHBZfIK",
        "colab_type": "text"
      },
      "cell_type": "markdown",
      "source": [
        "After excluding these two players, the average age at death for soccer players is 55."
      ]
    },
    {
      "metadata": {
        "id": "SN3x8TawZfIK",
        "colab_type": "code",
        "colab": {
          "autoexec": {
            "startup": false,
            "wait_interval": 0
          },
          "base_uri": "https://localhost:8080/",
          "height": 297
        },
        "outputId": "579a017a-d728-4978-a6a3-8b7d0707befb",
        "executionInfo": {
          "status": "ok",
          "timestamp": 1531532591047,
          "user_tz": 240,
          "elapsed": 516,
          "user": {
            "displayName": "Albert Opoku",
            "photoUrl": "https://lh3.googleusercontent.com/a/default-user=s128",
            "userId": "104199486019438337688"
          }
        }
      },
      "cell_type": "code",
      "source": [
        "df.describe()"
      ],
      "execution_count": 19,
      "outputs": [
        {
          "output_type": "execute_result",
          "data": {
            "text/html": [
              "<div>\n",
              "<style scoped>\n",
              "    .dataframe tbody tr th:only-of-type {\n",
              "        vertical-align: middle;\n",
              "    }\n",
              "\n",
              "    .dataframe tbody tr th {\n",
              "        vertical-align: top;\n",
              "    }\n",
              "\n",
              "    .dataframe thead th {\n",
              "        text-align: right;\n",
              "    }\n",
              "</style>\n",
              "<table border=\"1\" class=\"dataframe\">\n",
              "  <thead>\n",
              "    <tr style=\"text-align: right;\">\n",
              "      <th></th>\n",
              "      <th>date_of_birth</th>\n",
              "      <th>date_of_death</th>\n",
              "      <th>age</th>\n",
              "    </tr>\n",
              "  </thead>\n",
              "  <tbody>\n",
              "    <tr>\n",
              "      <th>count</th>\n",
              "      <td>1388.000000</td>\n",
              "      <td>1388.000000</td>\n",
              "      <td>1388.000000</td>\n",
              "    </tr>\n",
              "    <tr>\n",
              "      <th>mean</th>\n",
              "      <td>1941.878963</td>\n",
              "      <td>1997.131124</td>\n",
              "      <td>55.252161</td>\n",
              "    </tr>\n",
              "    <tr>\n",
              "      <th>std</th>\n",
              "      <td>28.301850</td>\n",
              "      <td>26.903070</td>\n",
              "      <td>19.473750</td>\n",
              "    </tr>\n",
              "    <tr>\n",
              "      <th>min</th>\n",
              "      <td>1848.000000</td>\n",
              "      <td>1880.000000</td>\n",
              "      <td>12.000000</td>\n",
              "    </tr>\n",
              "    <tr>\n",
              "      <th>25%</th>\n",
              "      <td>1927.000000</td>\n",
              "      <td>1994.000000</td>\n",
              "      <td>38.000000</td>\n",
              "    </tr>\n",
              "    <tr>\n",
              "      <th>50%</th>\n",
              "      <td>1944.000000</td>\n",
              "      <td>2008.000000</td>\n",
              "      <td>57.000000</td>\n",
              "    </tr>\n",
              "    <tr>\n",
              "      <th>75%</th>\n",
              "      <td>1961.000000</td>\n",
              "      <td>2014.000000</td>\n",
              "      <td>71.000000</td>\n",
              "    </tr>\n",
              "    <tr>\n",
              "      <th>max</th>\n",
              "      <td>1997.000000</td>\n",
              "      <td>2018.000000</td>\n",
              "      <td>101.000000</td>\n",
              "    </tr>\n",
              "  </tbody>\n",
              "</table>\n",
              "</div>"
            ],
            "text/plain": [
              "       date_of_birth  date_of_death          age\n",
              "count    1388.000000    1388.000000  1388.000000\n",
              "mean     1941.878963    1997.131124    55.252161\n",
              "std        28.301850      26.903070    19.473750\n",
              "min      1848.000000    1880.000000    12.000000\n",
              "25%      1927.000000    1994.000000    38.000000\n",
              "50%      1944.000000    2008.000000    57.000000\n",
              "75%      1961.000000    2014.000000    71.000000\n",
              "max      1997.000000    2018.000000   101.000000"
            ]
          },
          "metadata": {
            "tags": []
          },
          "execution_count": 19
        }
      ]
    },
    {
      "metadata": {
        "id": "iLuxTMWmZfIQ",
        "colab_type": "text"
      },
      "cell_type": "markdown",
      "source": [
        "Now let us visualize the causes of death for the players. I will visualize the top 20 causes. It is worth to note that Wikipedia sometimes publish multiple cause of death for an individual. It could be that doctors attribute multiple diseases as the cause of death for some patients."
      ]
    },
    {
      "metadata": {
        "id": "1WoPWdTpZfIS",
        "colab_type": "code",
        "colab": {
          "autoexec": {
            "startup": false,
            "wait_interval": 0
          },
          "base_uri": "https://localhost:8080/",
          "height": 545
        },
        "outputId": "9187e85c-c4fb-4466-d825-15e15c6b68d9",
        "executionInfo": {
          "status": "ok",
          "timestamp": 1531532597784,
          "user_tz": 240,
          "elapsed": 1702,
          "user": {
            "displayName": "Albert Opoku",
            "photoUrl": "https://lh3.googleusercontent.com/a/default-user=s128",
            "userId": "104199486019438337688"
          }
        }
      },
      "cell_type": "code",
      "source": [
        "title = 'Association Football(Soccer) players top 20 Causes of Death According to Wikipedia'\n",
        "footer =  chartinfo\n",
        "    \n",
        "df['cause of death'] = df['cause_of_death'].apply(lambda x: x.capitalize())\n",
        "s = df.groupby('cause_of_death').agg('count')['name'].sort_values().tail(20)\n",
        "\n",
        "ax = s.plot(kind='barh', figsize=(9, 8), title=title,color='xkcd:sky blue')\n",
        "ax.yaxis.set_label_text('')\n",
        "ax.xaxis.set_label_text('Cause of death count')\n",
        "\n",
        "ax.annotate(footer, xy=(-0.1, -0.14), xycoords='axes fraction', fontsize=infosize)\n",
        "plt.savefig('img',dpi=300, bbox_inches = \"tight\")"
      ],
      "execution_count": 20,
      "outputs": [
        {
          "output_type": "display_data",
          "data": {
            "image/png": "[encoded data removed]",
            "text/plain": [
              "<matplotlib.figure.Figure at 0x7f1d0a74ee48>"
            ]
          },
          "metadata": {
            "tags": []
          }
        }
      ]
    },
    {
      "metadata": {
        "id": "DEMb6EHvgBlC",
        "colab_type": "text"
      },
      "cell_type": "markdown",
      "source": [
        "The result is not as expected. You would think people that workout that much won't develop myocardial infarction aka \"heart attacks\". Perhaps they stop exercising when they retired from active football or food choices may be blamed. The doctors can help us out. Traffic accident at position number three is interesting considering they can afford to buy good cars. I can't think about any reason behind this, there surely maybe something going on with these players that is not captured in this data. \n",
        "Have fun, explore the rest of the graph. You can also try your hands on the code. I have saved it on my GitHub page here"
      ]
    },
    {
      "metadata": {
        "id": "PoEtsVjRZfIW",
        "colab_type": "code",
        "colab": {
          "autoexec": {
            "startup": false,
            "wait_interval": 0
          },
          "base_uri": "https://localhost:8080/",
          "height": 51
        },
        "outputId": "3623f62d-9746-47fa-d503-8d1a298ce096",
        "executionInfo": {
          "status": "ok",
          "timestamp": 1531534002071,
          "user_tz": 240,
          "elapsed": 311,
          "user": {
            "displayName": "Albert Opoku",
            "photoUrl": "https://lh3.googleusercontent.com/a/default-user=s128",
            "userId": "104199486019438337688"
          }
        }
      },
      "cell_type": "code",
      "source": [
        "%signature"
      ],
      "execution_count": 44,
      "outputs": [
        {
          "output_type": "execute_result",
          "data": {
            "text/html": [
              "Author: <a href=\"https://twitter.com/opalbert/\">Albert Opoku</a>\n",
              "            • Last edited: July 14, 2018<br>Linux 4.14.33+ - CPython 3.6.3 - IPython 5.5.0 - matplotlib 2.1.2 - numpy 1.14.5 - pandas 0.22.0"
            ],
            "text/plain": [
              "<IPython.core.display.HTML object>"
            ]
          },
          "metadata": {
            "tags": []
          },
          "execution_count": 44
        }
      ]
    }
  ]
}